{
 "cells": [
  {
   "cell_type": "code",
   "execution_count": 8,
   "metadata": {
    "collapsed": true
   },
   "outputs": [
    {
     "name": "stdout",
     "output_type": "stream",
     "text": [
      "[[0 1 0 1 0 1 0 1]\n",
      " [1 0 1 0 1 0 1 0]\n",
      " [0 1 0 1 0 1 0 1]\n",
      " [1 0 1 0 1 0 1 0]\n",
      " [0 1 0 1 0 1 0 1]\n",
      " [1 0 1 0 1 0 1 0]\n",
      " [0 1 0 1 0 1 0 1]\n",
      " [1 0 1 0 1 0 1 0]]\n"
     ]
    }
   ],
   "source": [
    "# 1\n",
    "import numpy as np\n",
    "\n",
    "A = np.array([1, 0] * 32)\n",
    "C = A.reshape((8, 8))\n",
    "for i in range(0, 7, 2):\n",
    "    C[i] = C[i][::-1]\n",
    "print(C)"
   ]
  },
  {
   "cell_type": "code",
   "execution_count": 9,
   "outputs": [
    {
     "name": "stdout",
     "output_type": "stream",
     "text": [
      "[[0 1 2 3 4]\n",
      " [0 1 2 3 4]\n",
      " [0 1 2 3 4]\n",
      " [0 1 2 3 4]\n",
      " [0 1 2 3 4]]\n"
     ]
    }
   ],
   "source": [
    "# 2\n",
    "\n",
    "A = np.array([np.arange(0,5)] * 5)\n",
    "print(A)"
   ],
   "metadata": {
    "collapsed": false
   }
  },
  {
   "cell_type": "code",
   "execution_count": 10,
   "outputs": [
    {
     "name": "stdout",
     "output_type": "stream",
     "text": [
      "[[[0.95157236 0.03456997 0.99294949]\n",
      "  [0.88110594 0.28803397 0.72182942]\n",
      "  [0.93021124 0.38633475 0.09173111]]\n",
      "\n",
      " [[0.08794363 0.45985902 0.51914515]\n",
      "  [0.56210172 0.16625533 0.60715568]\n",
      "  [0.12515303 0.35686919 0.73415195]]\n",
      "\n",
      " [[0.43458709 0.66617888 0.35272663]\n",
      "  [0.68664785 0.00602222 0.09912707]\n",
      "  [0.51045313 0.90677647 0.78403453]]]\n"
     ]
    }
   ],
   "source": [
    "# 3\n",
    "\n",
    "A = np.random.random(27).reshape(3,3,3)\n",
    "print(A)"
   ],
   "metadata": {
    "collapsed": false
   }
  },
  {
   "cell_type": "code",
   "execution_count": 11,
   "outputs": [
    {
     "name": "stdout",
     "output_type": "stream",
     "text": [
      "[[1 1 1 1 1]\n",
      " [1 0 0 0 1]\n",
      " [1 0 0 0 1]\n",
      " [1 0 0 0 1]\n",
      " [1 1 1 1 1]]\n"
     ]
    }
   ],
   "source": [
    "# 4\n",
    "\n",
    "A = np.array([0] * 25).reshape(5,5)\n",
    "for i in range(5):\n",
    "    for j in range(5):\n",
    "        if (i == 0 or j == 0 or i == 4 or j == 4):\n",
    "            A[i][j] = 1\n",
    "\n",
    "print(A)"
   ],
   "metadata": {
    "collapsed": false
   }
  },
  {
   "cell_type": "code",
   "execution_count": 12,
   "outputs": [
    {
     "name": "stdout",
     "output_type": "stream",
     "text": [
      "[34523  7589  3234   324   234    64    64     7     5     2]\n"
     ]
    }
   ],
   "source": [
    "# 5\n",
    "\n",
    "A = np.array([2,5,7,3234,64,234,7589,34523,324,64])\n",
    "A = np.sort(A)[::-1]\n",
    "print(A)\n"
   ],
   "metadata": {
    "collapsed": false
   }
  },
  {
   "cell_type": "code",
   "execution_count": 13,
   "outputs": [
    {
     "name": "stdout",
     "output_type": "stream",
     "text": [
      "form: (5, 5)\n",
      "size: 25\n",
      "dim: 2\n"
     ]
    }
   ],
   "source": [
    "# 6\n",
    "\n",
    "A = np.arange(25).reshape(5,5)\n",
    "print(\"form:\", A.shape)\n",
    "print(\"size:\", A.size)\n",
    "print(\"dim:\",  A.ndim)"
   ],
   "metadata": {
    "collapsed": false
   }
  },
  {
   "cell_type": "code",
   "execution_count": 14,
   "outputs": [
    {
     "name": "stdout",
     "output_type": "stream",
     "text": [
      "5.0\n"
     ]
    }
   ],
   "source": [
    "# 7\n",
    "import pandas as pd\n",
    "\n",
    "a = pd.Series([5,7])\n",
    "b = pd.Series([8,11])\n",
    "\n",
    "e = np.sqrt((a[0] - b[0]) ** 2 + (a[1] - b[1]) ** 2)\n",
    "\n",
    "print(e)\n"
   ],
   "metadata": {
    "collapsed": false
   }
  },
  {
   "cell_type": "code",
   "execution_count": 15,
   "outputs": [
    {
     "name": "stdout",
     "output_type": "stream",
     "text": [
      "       1      2    3    4   5  6   7    8   9   10  11  12  13  14  15  16  \\\n",
      "0  0.271  0.328   74  161  22  6  12   58  49  133  23  17   1   1   0   0   \n",
      "1  0.264  0.318   24   48   7  0   1   22  15   18   0   7   0   0   0   0   \n",
      "2  0.251  0.338  101  141  35  3  32  105  71  104  34   6   0   0   1   0   \n",
      "3  0.224  0.274   28   94  21  1   1   44  27   54   2   7   1   1   0   0   \n",
      "4  0.206  0.262   14   51  18  1   1   28  17   26   0   3   1   1   0   0   \n",
      "\n",
      "   salary  \n",
      "0     109  \n",
      "1     160  \n",
      "2    2700  \n",
      "3     550  \n",
      "4     300  \n"
     ]
    }
   ],
   "source": [
    "# 8\n",
    "\n",
    "url = 'https://raw.githubusercontent.com/akmand/datasets/main/baseball.csv'\n",
    "dataframe = pd.read_csv(url)\n",
    "print(dataframe.head(5))\n"
   ],
   "metadata": {
    "collapsed": false
   }
  },
  {
   "cell_type": "code",
   "execution_count": 16,
   "outputs": [
    {
     "name": "stdout",
     "output_type": "stream",
     "text": [
      "1.1)Первые пять строк:\n",
      "       1      2    3    4   5  6   7    8   9   10  11  12  13  14  15  16  \\\n",
      "0  0.271  0.328   74  161  22  6  12   58  49  133  23  17   1   1   0   0   \n",
      "1  0.264  0.318   24   48   7  0   1   22  15   18   0   7   0   0   0   0   \n",
      "2  0.251  0.338  101  141  35  3  32  105  71  104  34   6   0   0   1   0   \n",
      "3  0.224  0.274   28   94  21  1   1   44  27   54   2   7   1   1   0   0   \n",
      "4  0.206  0.262   14   51  18  1   1   28  17   26   0   3   1   1   0   0   \n",
      "\n",
      "   salary  \n",
      "0     109  \n",
      "1     160  \n",
      "2    2700  \n",
      "3     550  \n",
      "4     300   \n",
      "\n",
      "1.2)Последние пять строк:\n",
      "         1      2   3    4   5  6   7   8   9   10  11  12  13  14  15  16  \\\n",
      "332  0.269  0.303  32   58  12  1  13  33  11   51   1   2   0   0   0   0   \n",
      "333  0.288  0.366  24   47   7  0   7  24  18   23   2   3   0   0   0   0   \n",
      "334  0.208  0.265  12   35  11  1   0  15  14   30   2   6   0   0   0   0   \n",
      "335  0.290  0.349  59  141  30  2  16  64  42  102  14   6   1   0   0   0   \n",
      "336  0.225  0.312  37   64  12  0  17  48  36   80   1   0   1   0   0   0   \n",
      "\n",
      "     salary  \n",
      "332     140  \n",
      "333     525  \n",
      "334     365  \n",
      "335     990  \n",
      "336    2167   \n",
      "\n",
      "1.3)Количество строк и столбцов:\n",
      "(337, 17) \n",
      "\n",
      "1.4)Описательная статистика:\n",
      "                1           2           3           4           5           6  \\\n",
      "count  337.000000  337.000000  337.000000  337.000000  337.000000  337.000000   \n",
      "mean     0.257825    0.323973   46.697329   92.833828   16.673591    2.338279   \n",
      "std      0.039546    0.047132   29.020166   51.896322   10.452001    2.543336   \n",
      "min      0.063000    0.063000    0.000000    1.000000    0.000000    0.000000   \n",
      "25%      0.238000    0.297000   22.000000   51.000000    9.000000    0.000000   \n",
      "50%      0.260000    0.323000   41.000000   91.000000   15.000000    2.000000   \n",
      "75%      0.281000    0.354000   69.000000  136.000000   23.000000    3.000000   \n",
      "max      0.457000    0.486000  133.000000  216.000000   49.000000   15.000000   \n",
      "\n",
      "                7           8           9          10          11          12  \\\n",
      "count  337.000000  337.000000  337.000000  337.000000  337.000000  337.000000   \n",
      "mean     9.097923   44.020772   35.017804   56.706231    8.246291    6.771513   \n",
      "std      9.289934   29.559406   24.842474   33.828784   11.664782    5.927490   \n",
      "min      0.000000    0.000000    0.000000    1.000000    0.000000    0.000000   \n",
      "25%      2.000000   21.000000   15.000000   31.000000    1.000000    3.000000   \n",
      "50%      6.000000   39.000000   30.000000   49.000000    4.000000    5.000000   \n",
      "75%     15.000000   66.000000   49.000000   78.000000   11.000000    9.000000   \n",
      "max     44.000000  133.000000  138.000000  175.000000   76.000000   31.000000   \n",
      "\n",
      "               13          14          15          16       salary  \n",
      "count  337.000000  337.000000  337.000000  337.000000   337.000000  \n",
      "mean     0.397626    0.115727    0.192878    0.029674  1248.528190  \n",
      "std      0.490135    0.320373    0.395145    0.169938  1240.013309  \n",
      "min      0.000000    0.000000    0.000000    0.000000   109.000000  \n",
      "25%      0.000000    0.000000    0.000000    0.000000   230.000000  \n",
      "50%      0.000000    0.000000    0.000000    0.000000   740.000000  \n",
      "75%      1.000000    0.000000    0.000000    0.000000  2150.000000  \n",
      "max      1.000000    1.000000    1.000000    1.000000  6100.000000   \n",
      "\n",
      "2)Срез данных (3 - 6):\n",
      "       1      2   3    4   5  6   7   8   9   10  11  12  13  14  15  16  \\\n",
      "3  0.224  0.274  28   94  21  1   1  44  27   54   2   7   1   1   0   0   \n",
      "4  0.206  0.262  14   51  18  1   1  28  17   26   0   3   1   1   0   0   \n",
      "5  0.238  0.272  53  106  18  3  15  59  22  107  14   7   0   0   0   0   \n",
      "6  0.115  0.148   0    3   1  0   0   2   1    6   0   3   0   0   0   0   \n",
      "\n",
      "   salary  \n",
      "3     550  \n",
      "4     300  \n",
      "5     230  \n",
      "6     109   \n",
      "\n",
      "3)Срез данных (salary < 200):\n",
      "        1      2   3    4   5  6   7   8   9   10  11  12  13  14  15  16  \\\n",
      "0   0.271  0.328  74  161  22  6  12  58  49  133  23  17   1   1   0   0   \n",
      "1   0.264  0.318  24   48   7  0   1  22  15   18   0   7   0   0   0   0   \n",
      "6   0.115  0.148   0    3   1  0   0   2   1    6   0   3   0   0   0   0   \n",
      "8   0.187  0.281  38   50   9  2  15  37  32   98   0   9   0   0   0   0   \n",
      "12  0.213  0.312  36   57   8  3   2  26  39   32   8  15   0   0   0   0   \n",
      "15  0.225  0.333  71    8  16  4   0   3  14   12  25   0   0   0   1   0   \n",
      "16  0.283  0.327  15   39   7  1   7  26   9   31   3   1   0   0   0   0   \n",
      "23  0.211  0.274   5   12   2  0   0   3   3    2   0   4   0   0   0   0   \n",
      "28  0.291  0.341  19   37   5  0   2  11  10   25   2   2   0   0   0   0   \n",
      "34  0.238  0.336  43   76  19  4   3  34  48   57  10   5   0   0   0   0   \n",
      "\n",
      "    salary  \n",
      "0      109  \n",
      "1      160  \n",
      "6      109  \n",
      "8      142  \n",
      "12     183  \n",
      "15     109  \n",
      "16     155  \n",
      "23     135  \n",
      "28     120  \n",
      "34     125   \n",
      "\n"
     ]
    }
   ],
   "source": [
    "# 9\n",
    "\n",
    "url = 'https://raw.githubusercontent.com/akmand/datasets/main/baseball.csv'\n",
    "dataframe = pd.read_csv(url)\n",
    "\n",
    "print(\"1.1)Первые пять строк:\")\n",
    "print(dataframe.head(5), '\\n')\n",
    "print(\"1.2)Последние пять строк:\")\n",
    "print(dataframe.tail(5), '\\n')\n",
    "print(\"1.3)Количество строк и столбцов:\")\n",
    "print(dataframe.shape, '\\n')\n",
    "print(\"1.4)Описательная статистика:\")\n",
    "print(dataframe.describe(), '\\n')\n",
    "print(\"2)Срез данных (3 - 6):\")\n",
    "print(dataframe.iloc[3:7], '\\n')\n",
    "print(\"3)Срез данных (salary < 200):\")\n",
    "print(dataframe[dataframe['salary'] < 200].head(10), '\\n')\n"
   ],
   "metadata": {
    "collapsed": false
   }
  },
  {
   "cell_type": "code",
   "execution_count": 17,
   "outputs": [
    {
     "name": "stdout",
     "output_type": "stream",
     "text": [
      "   sepal_length_cm  sepal_width_cm  petal_length_cm  petal_width_cm species\n",
      "0              5.1             3.5              1.4             0.2  setosa\n",
      "1              4.9             3.0              1.4             0.2  setosa\n",
      "2              4.7             3.2              1.3             0.2  setosa\n",
      "3              4.6             3.1              1.5             0.2  setosa\n",
      "4              5.0             3.6              1.4             0.2  setosa\n",
      "5              5.4             3.9              1.7             0.4  setosa\n",
      "6              4.6             3.4              1.4             0.3  setosa\n",
      "7              5.0             3.4              1.5             0.2  setosa\n",
      "8              4.4             2.9              1.4             0.2  setosa\n",
      "9              4.9             3.1              1.5             0.1  setosa \n",
      "\n",
      "   sepal_length_cm  sepal_width_cm  petal_length_cm  petal_width_cm species\n",
      "0         0.222222        1.028611              1.4             0.2  setosa\n",
      "1         0.166667       -0.124540              1.4             0.2  setosa\n",
      "2         0.111111        0.336720              1.3             0.2  setosa\n",
      "3         0.083333        0.106090              1.5             0.2  setosa\n",
      "4         0.194444        1.259242              1.4             0.2  setosa\n",
      "5         0.305556        1.951133              1.7             0.4  setosa\n",
      "6         0.083333        0.797981              1.4             0.3  setosa\n",
      "7         0.194444        0.797981              1.5             0.2  setosa\n",
      "8         0.027778       -0.355171              1.4             0.2  setosa\n",
      "9         0.166667        0.106090              1.5             0.1  setosa\n"
     ]
    }
   ],
   "source": [
    "# 10\n",
    "from sklearn import preprocessing\n",
    "\n",
    "url = \"https://raw.githubusercontent.com/akmand/datasets/master/iris.csv\"\n",
    "dataframe = pd.read_csv(url)\n",
    "\n",
    "print(dataframe.head(10), '\\n')\n",
    "\n",
    "scaler = preprocessing.MinMaxScaler()\n",
    "dataframe['sepal_length_cm'] = scaler.fit_transform(dataframe[['sepal_length_cm']])\n",
    "dataframe['sepal_width_cm'] = (dataframe['sepal_width_cm'] - dataframe['sepal_width_cm'].mean()) / dataframe['sepal_width_cm'].std()\n",
    "print(dataframe.head(10))"
   ],
   "metadata": {
    "collapsed": false
   }
  }
 ],
 "metadata": {
  "kernelspec": {
   "display_name": "Python 3",
   "language": "python",
   "name": "python3"
  },
  "language_info": {
   "codemirror_mode": {
    "name": "ipython",
    "version": 2
   },
   "file_extension": ".py",
   "mimetype": "text/x-python",
   "name": "python",
   "nbconvert_exporter": "python",
   "pygments_lexer": "ipython2",
   "version": "2.7.6"
  }
 },
 "nbformat": 4,
 "nbformat_minor": 0
}
